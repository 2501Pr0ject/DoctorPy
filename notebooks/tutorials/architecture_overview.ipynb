{
 "cells": [
  {
   "cell_type": "markdown",
   "metadata": {},
   "source": [
    "# 🏗️ Vue d'ensemble de l'architecture DoctorPy\n",
    "\n",
    "Ce notebook présente l'architecture microservices de DoctorPy et montre comment interagir avec les différents services.\n",
    "\n",
    "## 🎯 Objectifs\n",
    "- Comprendre l'architecture microservices\n",
    "- Tester les APIs de chaque service\n",
    "- Voir l'intégration entre services"
   ]
  },
  {
   "cell_type": "markdown",
   "metadata": {},
   "source": [
    "## 📊 Architecture des services\n",
    "\n",
    "DoctorPy utilise 5 microservices principaux :\n",
    "\n",
    "| Service | Port | Responsabilité |\n",
    "|---------|------|----------------|\n",
    "| Auth | 8001 | Authentification et profils |\n",
    "| RAG | 8002 | Assistant IA et génération |\n",
    "| Analytics | 8003 | Métriques et insights |\n",
    "| Quest | 8004 | Gamification et quêtes |\n",
    "| Notification | 8005 | Notifications multi-canal |"
   ]
  },
  {
   "cell_type": "code",
   "execution_count": null,
   "metadata": {},
   "outputs": [],
   "source": [
    "import requests\n",
    "import json\n",
    "from IPython.display import display, JSON\n",
    "\n",
    "# Configuration des services\n",
    "services = {\n",
    "    \"auth\": \"http://localhost:8001\",\n",
    "    \"rag\": \"http://localhost:8002\", \n",
    "    \"analytics\": \"http://localhost:8003\",\n",
    "    \"quest\": \"http://localhost:8004\",\n",
    "    \"notification\": \"http://localhost:8005\"\n",
    "}\n",
    "\n",
    "print(\"🌟 Configuration des services DoctorPy\")\n",
    "for name, url in services.items():\n",
    "    print(f\"  • {name.upper()}: {url}\")"
   ]
  },
  {
   "cell_type": "markdown",
   "metadata": {},
   "source": [
    "## 🔍 Test de santé des services\n",
    "\n",
    "Vérifions que tous les services sont opérationnels :"
   ]
  },
  {
   "cell_type": "code",
   "execution_count": null,
   "metadata": {},
   "outputs": [],
   "source": [
    "def check_service_health(name, base_url):\n",
    "    \"\"\"Vérifie la santé d'un service\"\"\"\n",
    "    try:\n",
    "        response = requests.get(f\"{base_url}/health\", timeout=5)\n",
    "        if response.status_code == 200:\n",
    "            data = response.json()\n",
    "            print(f\"✅ {name.upper()}: {data.get('status', 'unknown')}\")\n",
    "            return data\n",
    "        else:\n",
    "            print(f\"⚠️ {name.upper()}: Status {response.status_code}\")\n",
    "            return None\n",
    "    except requests.exceptions.RequestException as e:\n",
    "        print(f\"❌ {name.upper()}: Non accessible ({str(e)[:50]}...)\")\n",
    "        return None\n",
    "\n",
    "print(\"🏥 Vérification de la santé des services:\")\n",
    "health_results = {}\n",
    "for name, url in services.items():\n",
    "    health_results[name] = check_service_health(name, url)"
   ]
  },
  {
   "cell_type": "markdown",
   "metadata": {},
   "source": [
    "## 🤖 Test du service RAG\n",
    "\n",
    "Testons l'assistant IA avec quelques questions Python :"
   ]
  },
  {
   "cell_type": "code",
   "execution_count": null,
   "metadata": {},
   "outputs": [],
   "source": [
    "def test_rag_query(query, query_type=\"general\"):\n",
    "    \"\"\"Teste une requête RAG\"\"\"\n",
    "    try:\n",
    "        response = requests.post(\n",
    "            f\"{services['rag']}/api/v1/rag/query\",\n",
    "            json={\"query\": query, \"query_type\": query_type}\n",
    "        )\n",
    "        if response.status_code == 200:\n",
    "            return response.json()\n",
    "        else:\n",
    "            return {\"error\": f\"Status {response.status_code}\"}\n",
    "    except Exception as e:\n",
    "        return {\"error\": str(e)}\n",
    "\n",
    "# Test de différentes requêtes\n",
    "queries = [\n",
    "    (\"Comment créer une variable en Python ?\", \"code_help\"),\n",
    "    (\"Explique-moi les boucles for\", \"tutorial\"),\n",
    "    (\"Qu'est-ce qu'une fonction ?\", \"concept\")\n",
    "]\n",
    "\n",
    "print(\"🤖 Test du service RAG:\")\n",
    "for query, query_type in queries:\n",
    "    print(f\"\\n❓ Question: {query}\")\n",
    "    result = test_rag_query(query, query_type)\n",
    "    if \"error\" not in result:\n",
    "        print(f\"💡 Réponse: {result.get('response', '')[:100]}...\")\n",
    "        print(f\"📚 Sources: {', '.join(result.get('sources', []))}\")\n",
    "        print(f\"🎯 Confiance: {result.get('confidence', 0)*100:.0f}%\")\n",
    "    else:\n",
    "        print(f\"❌ Erreur: {result['error']}\")"
   ]
  },
  {
   "cell_type": "markdown",
   "metadata": {},
   "source": [
    "## 🎮 Test du service Quest\n",
    "\n",
    "Explorons le système de gamification :"
   ]
  },
  {
   "cell_type": "code",
   "execution_count": null,
   "metadata": {},
   "outputs": [],
   "source": [
    "# Récupérer les quêtes disponibles\n",
    "try:\n",
    "    response = requests.get(f\"{services['quest']}/api/v1/quests\")\n",
    "    if response.status_code == 200:\n",
    "        quests_data = response.json()\n",
    "        quests = quests_data.get('quests', [])\n",
    "        \n",
    "        print(f\"🎯 Quêtes disponibles ({len(quests)}):\")\n",
    "        for quest in quests:\n",
    "            print(f\"  • {quest['title']} ({quest['difficulty']})\")\n",
    "            print(f\"    Points: {quest['points']} | Temps estimé: {quest['estimated_time']}\")\n",
    "            print(f\"    {quest['description']}\")\n",
    "            print()\n",
    "        \n",
    "        # Afficher sous forme de tableau\n",
    "        import pandas as pd\n",
    "        df = pd.DataFrame(quests)\n",
    "        display(df[['title', 'difficulty', 'points', 'estimated_time', 'questions_count']])\n",
    "    else:\n",
    "        print(f\"❌ Erreur récupération quêtes: {response.status_code}\")\n",
    "except Exception as e:\n",
    "    print(f\"❌ Erreur: {e}\")"
   ]
  },
  {
   "cell_type": "markdown",
   "metadata": {},
   "source": [
    "## 📊 Test du service Analytics\n",
    "\n",
    "Regardons les métriques du système :"
   ]
  },
  {
   "cell_type": "code",
   "execution_count": null,
   "metadata": {},
   "outputs": [],
   "source": [
    "# Vue d'ensemble des analytics\n",
    "try:\n",
    "    response = requests.get(f\"{services['analytics']}/api/v1/analytics/overview\")\n",
    "    if response.status_code == 200:\n",
    "        overview = response.json()\n",
    "        summary = overview.get('summary', {})\n",
    "        \n",
    "        print(\"📈 Vue d'ensemble Analytics:\")\n",
    "        print(f\"  • Utilisateurs totaux: {summary.get('total_users', 0)}\")\n",
    "        print(f\"  • Utilisateurs actifs aujourd'hui: {summary.get('active_users_today', 0)}\")\n",
    "        print(f\"  • Taux de complétion des quêtes: {summary.get('quest_completion_rate', 0)*100:.1f}%\")\n",
    "        print(f\"  • Durée moyenne de session: {summary.get('avg_session_duration', 'N/A')}\")\n",
    "        \n",
    "        # Affichage structuré\n",
    "        display(JSON(overview))\n",
    "    else:\n",
    "        print(f\"❌ Erreur analytics: {response.status_code}\")\n",
    "except Exception as e:\n",
    "    print(f\"❌ Erreur: {e}\")"
   ]
  },
  {
   "cell_type": "markdown",
   "metadata": {},
   "source": [
    "## 🔔 Test du service Notification\n",
    "\n",
    "Testons le système de notifications :"
   ]
  },
  {
   "cell_type": "code",
   "execution_count": null,
   "metadata": {},
   "outputs": [],
   "source": [
    "# Test d'envoi de notification\n",
    "notification_data = {\n",
    "    \"user_id\": \"notebook_user\",\n",
    "    \"message\": \"🎉 Test depuis le notebook Jupyter ! Architecture microservices opérationnelle.\",\n",
    "    \"type\": \"info\",\n",
    "    \"channels\": [\"in_app\", \"email\"]\n",
    "}\n",
    "\n",
    "try:\n",
    "    response = requests.post(\n",
    "        f\"{services['notification']}/api/v1/notifications/send\",\n",
    "        json=notification_data\n",
    "    )\n",
    "    if response.status_code == 200:\n",
    "        result = response.json()\n",
    "        print(\"📨 Notification envoyée avec succès:\")\n",
    "        print(f\"  • ID: {result.get('notification_id')}\")\n",
    "        print(f\"  • Statut: {result.get('status')}\")\n",
    "        print(f\"  • Canaux: {[r['channel'] for r in result.get('channels_results', [])]}\")\n",
    "        \n",
    "        display(JSON(result))\n",
    "    else:\n",
    "        print(f\"❌ Erreur notification: {response.status_code}\")\n",
    "except Exception as e:\n",
    "    print(f\"❌ Erreur: {e}\")"
   ]
  },
  {
   "cell_type": "markdown",
   "metadata": {},
   "source": [
    "## 🎉 Conclusion\n",
    "\n",
    "Ce notebook a démontré :\n",
    "\n",
    "✅ **Architecture microservices opérationnelle**  \n",
    "✅ **5 services indépendants et communicants**  \n",
    "✅ **APIs REST complètes et documentées**  \n",
    "✅ **Intégration parfaite entre services**  \n",
    "\n",
    "L'écosystème DoctorPy est prêt pour le développement et l'extension !"
   ]
  }
 ],
 "metadata": {
  "kernelspec": {
   "display_name": "Python 3",
   "language": "python",
   "name": "python3"
  },
  "language_info": {
   "codemirror_mode": {
    "name": "ipython",
    "version": 3
   },
   "file_extension": ".py",
   "mimetype": "text/x-python",
   "name": "python",
   "nbconvert_exporter": "python",
   "pygments_lexer": "ipython3",
   "version": "3.10.0"
  }
 },
 "nbformat": 4,
 "nbformat_minor": 4
}